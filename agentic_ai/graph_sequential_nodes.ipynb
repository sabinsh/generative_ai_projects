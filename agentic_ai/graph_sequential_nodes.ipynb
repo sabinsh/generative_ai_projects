{
 "cells": [
  {
   "cell_type": "code",
   "execution_count": 1,
   "id": "f9cb9b67",
   "metadata": {},
   "outputs": [],
   "source": [
    "# python -m venv .venv\n",
    "# .\\venv\\Scripts\\Activate\n",
    "# pip install langgraph"
   ]
  },
  {
   "cell_type": "code",
   "execution_count": 4,
   "id": "7ac4ef8d",
   "metadata": {},
   "outputs": [],
   "source": [
    "from langgraph.graph import StateGraph, START, END "
   ]
  },
  {
   "cell_type": "code",
   "execution_count": 31,
   "id": "5213290e",
   "metadata": {},
   "outputs": [
    {
     "name": "stdout",
     "output_type": "stream",
     "text": [
      "+-----------+  \n",
      "| __start__ |  \n",
      "+-----------+  \n",
      "      *        \n",
      "      *        \n",
      "      *        \n",
      "    +---+      \n",
      "    | A |      \n",
      "    +---+      \n",
      "      *        \n",
      "      *        \n",
      "      *        \n",
      "    +---+      \n",
      "    | B |      \n",
      "    +---+      \n",
      "      *        \n",
      "      *        \n",
      "      *        \n",
      " +---------+   \n",
      " | __end__ |   \n",
      " +---------+   \n"
     ]
    }
   ],
   "source": [
    "def node_a_tool(_):\n",
    "    print (\"A run\")\n",
    "    return{}\n",
    "\n",
    "def node_b_tool(_):\n",
    "    print (\"B run\")\n",
    "    return{}\n",
    "\n",
    "builder = StateGraph(dict)\n",
    "builder.add_node(\"A\", node_a_tool)\n",
    "builder.add_node(\"B\", node_b_tool)\n",
    "\n",
    "builder.add_edge(START, \"A\")\n",
    "builder.add_edge(\"A\", \"B\")\n",
    "builder.add_edge(\"A\", END)\n",
    "\n",
    "graph = builder.compile()\n",
    "\n",
    "# Display as ASCII\n",
    "print(graph.get_graph().draw_ascii())\n",
    "\n",
    "\n",
    "\n",
    "# graph.get_graph().draw_png(\"graph.png\")\n",
    "# print (\"Graph saved as graph.png\")\n",
    "# graph.invoke({})"
   ]
  },
  {
   "cell_type": "code",
   "execution_count": 32,
   "id": "70f12d44",
   "metadata": {},
   "outputs": [
    {
     "name": "stdout",
     "output_type": "stream",
     "text": [
      " +-----------+   \n",
      " | __start__ |   \n",
      " +-----------+   \n",
      "        *        \n",
      "        *        \n",
      "        *        \n",
      "     +---+       \n",
      "     | A |       \n",
      "     +---+       \n",
      "     *    *      \n",
      "    *      *     \n",
      "   *        *    \n",
      "+---+     +---+  \n",
      "| B |     | C |  \n",
      "+---+     +---+  \n",
      "     *    *      \n",
      "      *  *       \n",
      "       **        \n",
      "  +---------+    \n",
      "  | __end__ |    \n",
      "  +---------+    \n",
      "A ran\n",
      "B ran\n",
      "C ran\n"
     ]
    }
   ],
   "source": [
    "from typing import TypedDict\n",
    "from langgraph.graph import StateGraph, START, END\n",
    "\n",
    "class MyState(TypedDict):\n",
    "    pass\n",
    "\n",
    "def node_a(_): print(\"A ran\"); return {}\n",
    "def node_b(_): print(\"B ran\"); return {}\n",
    "def node_c(_): print(\"C ran\"); return {}\n",
    "\n",
    "builder = StateGraph(MyState)\n",
    "builder.add_node(\"A\", node_a)\n",
    "builder.add_node(\"B\", node_b)\n",
    "builder.add_node(\"C\", node_c)\n",
    "\n",
    "builder.add_edge(START, \"A\")\n",
    "builder.add_edge(\"A\", \"B\")\n",
    "builder.add_edge(\"A\", \"C\")\n",
    "builder.add_edge(\"B\", END)\n",
    "builder.add_edge(\"C\", END)\n",
    "\n",
    "graph = builder.compile()\n",
    "print(graph.get_graph().draw_ascii())\n",
    "graph.invoke({})"
   ]
  }
 ],
 "metadata": {
  "kernelspec": {
   "display_name": "venv",
   "language": "python",
   "name": "python3"
  },
  "language_info": {
   "codemirror_mode": {
    "name": "ipython",
    "version": 3
   },
   "file_extension": ".py",
   "mimetype": "text/x-python",
   "name": "python",
   "nbconvert_exporter": "python",
   "pygments_lexer": "ipython3",
   "version": "3.13.5"
  }
 },
 "nbformat": 4,
 "nbformat_minor": 5
}
