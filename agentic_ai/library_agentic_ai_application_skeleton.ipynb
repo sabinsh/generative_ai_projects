{
 "cells": [
  {
   "cell_type": "code",
   "execution_count": 1,
   "id": "2b098fa9",
   "metadata": {},
   "outputs": [],
   "source": [
    "from typing import TypedDict\n",
    "from langgraph.graph import StateGraph, START, END\n",
    "# from openai import OpenAI\n",
    "# from dotenv import load_dotenv\n",
    "# import os"
   ]
  },
  {
   "cell_type": "code",
   "execution_count": 2,
   "id": "0ebd684f",
   "metadata": {},
   "outputs": [],
   "source": [
    "class LibraryState(TypedDict):\n",
    "        question: str\n",
    "        faq_answer: str\n",
    "        checkout_info: str\n",
    "        final_answer: str"
   ]
  },
  {
   "cell_type": "code",
   "execution_count": 3,
   "id": "e424464f",
   "metadata": {},
   "outputs": [],
   "source": [
    "def ClassifierAgent(state: LibraryState):\n",
    "    print (\"ClassifierAgent ran\")\n",
    "    print(f\"state:{state}\")\n",
    "\n",
    "    #retrun {}\n",
    "    #return {\"fag_answer\": \"CLASSIFIER FAQ ANSWER\", \"checkout_info\": \"\"}\n",
    "    return {\"faq_answer\": \"The library opens at 9:00 AM\", \"checkout_info\": \"\"}\n",
    "    # return {\"faq_answer\": \"\", \"checkout_info\": \"The Hobbit is available for checkout.\"}\n",
    "\n",
    "def FAQAgent(state: LibraryState):\n",
    "    print(\"FAQAgent ran\")\n",
    "    print(f\"FAQAgent state\", state)\n",
    "    \n",
    "    # return {}\n",
    "    return {\"faq_answer\": \"The library opens at 9:00 AM\"}\n",
    "\n",
    "def CheckoutAgent(state: LibraryState):\n",
    "    print(\"CheckoutAgent ran\")\n",
    "    \n",
    "    # return {}\n",
    "    return {\"checkout_info\": \"The Hobbit is available for checkout.\"}\n",
    "\n",
    "def ResponseAgent(state: LibraryState):\n",
    "    print(\"ResponseAgent ran\")\n",
    "    \n",
    "    #return {\"final_answer\": \"RESPONSE AGENT FINAL ANSWER\"}\n",
    "    return {\"final_answer\": f\"FAQ: {state['faq_answer']} | Checkout: {state['checkout_info']}\"}\n"
   ]
  },
  {
   "cell_type": "code",
   "execution_count": 4,
   "id": "8e461401",
   "metadata": {},
   "outputs": [],
   "source": [
    "# --- Build the Graph ---\n",
    "builder = StateGraph(LibraryState)\n",
    "builder.add_node(\"ClassifierAgent\", ClassifierAgent)\n",
    "builder.add_node(\"FAQAgent\", FAQAgent)\n",
    "builder.add_node(\"CheckoutAgent\", CheckoutAgent)\n",
    "builder.add_node(\"ResponseAgent\", ResponseAgent)\n",
    "\n",
    "builder.add_edge(START, \"ClassifierAgent\")\n",
    "builder.add_edge(\"ClassifierAgent\", \"FAQAgent\")\n",
    "builder.add_edge(\"ClassifierAgent\", \"CheckoutAgent\")\n",
    "builder.add_edge(\"FAQAgent\", \"ResponseAgent\")\n",
    "builder.add_edge(\"CheckoutAgent\", \"ResponseAgent\")\n",
    "builder.add_edge(\"ResponseAgent\", END)\n",
    "\n",
    "graph = builder.compile()"
   ]
  },
  {
   "cell_type": "code",
   "execution_count": 5,
   "id": "9b82d358",
   "metadata": {},
   "outputs": [
    {
     "name": "stdout",
     "output_type": "stream",
     "text": [
      "               +-----------+              \n",
      "               | __start__ |              \n",
      "               +-----------+              \n",
      "                     *                    \n",
      "                     *                    \n",
      "                     *                    \n",
      "            +-----------------+           \n",
      "            | ClassifierAgent |           \n",
      "            +-----------------+           \n",
      "              ***          **             \n",
      "             *               **           \n",
      "           **                  **         \n",
      "+---------------+           +----------+  \n",
      "| CheckoutAgent |           | FAQAgent |  \n",
      "+---------------+           +----------+  \n",
      "              ***          **             \n",
      "                 *       **               \n",
      "                  **   **                 \n",
      "             +---------------+            \n",
      "             | ResponseAgent |            \n",
      "             +---------------+            \n",
      "                     *                    \n",
      "                     *                    \n",
      "                     *                    \n",
      "                +---------+               \n",
      "                | __end__ |               \n",
      "                +---------+               \n"
     ]
    }
   ],
   "source": [
    "# --- Visualize ---\n",
    "#pip install grandalf\n",
    "\n",
    "print(graph.get_graph().draw_ascii())\n",
    "# graph.get_graph().draw_png(\"images/agentic_ai_library.png\")\n",
    "# print(\"Graph saved as agentic_ai_library.png\")"
   ]
  }
 ],
 "metadata": {
  "kernelspec": {
   "display_name": ".venv",
   "language": "python",
   "name": "python3"
  },
  "language_info": {
   "codemirror_mode": {
    "name": "ipython",
    "version": 3
   },
   "file_extension": ".py",
   "mimetype": "text/x-python",
   "name": "python",
   "nbconvert_exporter": "python",
   "pygments_lexer": "ipython3",
   "version": "3.13.5"
  }
 },
 "nbformat": 4,
 "nbformat_minor": 5
}
